{
 "cells": [
  {
   "cell_type": "markdown",
   "id": "609ac6be",
   "metadata": {},
   "source": [
    "# this is a Markdown cell"
   ]
  },
  {
   "cell_type": "code",
   "execution_count": 1,
   "id": "eac832de",
   "metadata": {},
   "outputs": [
    {
     "data": {
      "text/plain": [
       "'this is a multi-line commentthat continues.'"
      ]
     },
     "execution_count": 1,
     "metadata": {},
     "output_type": "execute_result"
    }
   ],
   "source": [
    "(\"this is a multi-line comment\"\n",
    "\"that continues.\")"
   ]
  },
  {
   "cell_type": "code",
   "execution_count": 2,
   "id": "30bf10a9",
   "metadata": {},
   "outputs": [
    {
     "name": "stdout",
     "output_type": "stream",
     "text": [
      "Ajá true\n"
     ]
    }
   ],
   "source": [
    "x = True\n",
    "if x == True:\n",
    "  print(\"Ajá true\")\n",
    "else:\n",
    "  print(\"falzo\")"
   ]
  },
  {
   "cell_type": "code",
   "execution_count": null,
   "id": "249f4464",
   "metadata": {},
   "outputs": [],
   "source": []
  }
 ],
 "metadata": {
  "kernelspec": {
   "display_name": "Python 3",
   "language": "python",
   "name": "python3"
  },
  "language_info": {
   "codemirror_mode": {
    "name": "ipython",
    "version": 3
   },
   "file_extension": ".py",
   "mimetype": "text/x-python",
   "name": "python",
   "nbconvert_exporter": "python",
   "pygments_lexer": "ipython3",
   "version": "3.7.11"
  }
 },
 "nbformat": 4,
 "nbformat_minor": 5
}
